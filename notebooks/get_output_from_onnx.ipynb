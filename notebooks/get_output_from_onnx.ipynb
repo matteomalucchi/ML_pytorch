{
 "cells": [
  {
   "cell_type": "code",
   "execution_count": 1,
   "metadata": {},
   "outputs": [
    {
     "name": "stderr",
     "output_type": "stream",
     "text": [
      "/work/mmalucch/micromamba/envs/ML_pytorch/lib/python3.8/site-packages/tqdm/auto.py:21: TqdmWarning: IProgress not found. Please update jupyter and ipywidgets. See https://ipywidgets.readthedocs.io/en/stable/user_install.html\n",
      "  from .autonotebook import tqdm as notebook_tqdm\n"
     ]
    }
   ],
   "source": [
    "import onnxruntime as rt\n",
    "import numpy as np\n",
    "import awkward as ak\n",
    "from matplotlib import pyplot as plt\n",
    "from coffea.util import load\n",
    "\n",
    "from ml_pytorch.defaults.dnn_input_variables import  bkg_morphing_dnn_input_variables\n",
    "from ml_pytorch.utils.tools import create_DNN_columns_list\n"
   ]
  },
  {
   "cell_type": "code",
   "execution_count": 2,
   "metadata": {},
   "outputs": [
    {
     "name": "stdout",
     "output_type": "stream",
     "text": [
      "DATA_JetMET_JMENano_E_skimmed DATA_JetMET_JMENano_2022_postEE_EraE 4b_control_regionRun2\n",
      "weight\n",
      "HiggsLeadingRun2_dR\n",
      "HiggsLeadingRun2_eta\n",
      "HiggsLeadingRun2_pt\n",
      "HiggsLeadingRun2_mass\n",
      "HiggsLeadingRun2_helicityCosTheta\n",
      "HiggsLeadingRun2_phi\n",
      "HiggsSubLeadingRun2_dR\n",
      "HiggsSubLeadingRun2_eta\n",
      "HiggsSubLeadingRun2_pt\n",
      "HiggsSubLeadingRun2_mass\n",
      "HiggsSubLeadingRun2_helicityCosTheta\n",
      "HiggsSubLeadingRun2_phi\n",
      "HHRun2_dR\n",
      "HHRun2_dPhi\n",
      "HHRun2_eta\n",
      "HHRun2_Costhetastar_CS\n",
      "HHRun2_pt\n",
      "HHRun2_mass\n",
      "HHRun2_dEta\n",
      "JetGoodFromHiggsOrderedRun2_N\n",
      "JetGoodFromHiggsOrderedRun2_eta\n",
      "JetGoodFromHiggsOrderedRun2_pt\n",
      "JetGoodFromHiggsOrderedRun2_mass\n",
      "JetGoodFromHiggsOrderedRun2_phi\n",
      "add_jet1ptRun2_eta\n",
      "add_jet1ptRun2_pt\n",
      "add_jet1ptRun2_mass\n",
      "add_jet1ptRun2_phi\n",
      "events_HT\n",
      "events_sigma_over_higgs2_reco_massRun2\n",
      "events_sigma_over_higgs1_reco_massRun2\n",
      "events_era\n",
      "events_dR_max\n",
      "events_dR_min\n"
     ]
    }
   ],
   "source": [
    "input = \"/work/tharte/datasets/data_samples/data_full_2022/merged/output_all.coffea\"\n",
    "\n",
    "o = load(f\"{input}\")\n",
    "sample=list(o[\"columns\"].keys())[0]\n",
    "dataset=list(o[\"columns\"][sample].keys())[0]\n",
    "category=list(o[\"columns\"][sample][dataset].keys())[0]\n",
    "category=\"2b_control_region_preWRun2\"\n",
    "category=\"4b_control_regionRun2\"\n",
    "print(sample,dataset, category)\n",
    "col=o[\"columns\"][sample][dataset][category]\n",
    "\n",
    "\n",
    "for k in col.keys():\n",
    "    print(k)\n",
    "    col[k]=col[k].value#[col[k].value!=-999]\n"
   ]
  },
  {
   "cell_type": "code",
   "execution_count": 3,
   "metadata": {},
   "outputs": [
    {
     "name": "stdout",
     "output_type": "stream",
     "text": [
      "events_era\n",
      "HiggsLeadingRun2_pt\n",
      "HiggsLeadingRun2_eta\n",
      "HiggsLeadingRun2_phi\n",
      "HiggsLeadingRun2_mass\n",
      "HiggsSubLeadingRun2_pt\n",
      "HiggsSubLeadingRun2_eta\n",
      "HiggsSubLeadingRun2_phi\n",
      "HiggsSubLeadingRun2_mass\n",
      "events_HT\n",
      "HiggsLeadingRun2_dR\n",
      "HiggsSubLeadingRun2_dR\n",
      "events_dR_min\n",
      "events_dR_max\n",
      "HiggsLeadingRun2_helicityCosTheta\n",
      "HiggsSubLeadingRun2_helicityCosTheta\n",
      "HHRun2_Costhetastar_CS\n",
      "HHRun2_mass\n",
      "HHRun2_pt\n",
      "HHRun2_eta\n",
      "HHRun2_dR\n",
      "HHRun2_dPhi\n",
      "HHRun2_dEta\n",
      "JetGoodFromHiggsOrderedRun2_pt\n",
      "[4 4 4 ... 4 4 4]\n",
      "[[206, 29.1, 91.7, 73.9], [57.9, 38.3, ... 145, 59.6], [62.2, 58.3, 80.3, 35.4]]\n",
      "[206, 57.9, 113, 160, 121, 167, 105, 106, ... 277, 307, 121, 137, 194, 137, 62.2]\n",
      "[29.1, 38.3, 54, 117, 85.1, 119, 37.7, ... 44.5, 31.9, 115, 117, 69.1, 76.4, 58.3]\n",
      "[91.7, 94.5, 50.5, 66.8, 60.5, 110, 69.5, ... 221, 235, 163, 112, 144, 145, 80.3]\n",
      "[73.9, 67.9, 44.8, 44.2, 30.1, 51.7, 64.8, ... 29.1, 64.9, 27.3, 29.2, 59.6, 35.4]\n",
      "JetGoodFromHiggsOrderedRun2_eta\n",
      "[4 4 4 ... 4 4 4]\n",
      "[[1.35, 1.85, 1.74, 1.9], [1, -0.847, ... -0.82], [2.08, 1.22, -2.49, -0.654]]\n",
      "[1.35, 1, -0.724, -0.538, 1.03, 0.387, ... 0.688, -1.46, 1.83, -0.958, 0.246, 2.08]\n",
      "[1.85, -0.847, -1.77, -0.866, 0.355, -0.617, ... -0.509, 0.639, -0.6, -0.573, 1.22]\n",
      "[1.74, 1.02, 0.265, -1.71, -2.07, -0.381, ... -0.643, -1.51, -1.05, -0.564, -2.49]\n",
      "[1.9, 1.61, -1.88, -0.476, -2.14, 0.244, ... -1.04, -0.0728, -1.35, -0.82, -0.654]\n",
      "JetGoodFromHiggsOrderedRun2_phi\n",
      "[4 4 4 ... 4 4 4]\n",
      "[[0.381, -2.02, -1.38, 1.34], [0.915, 1.16, ... -2.95], [-1.12, -2.48, 0.729, 2.95]]\n",
      "[0.381, 0.915, -2.51, -0.313, 0.505, 3.05, ... -0.122, 0.177, -0.711, 1.64, -1.12]\n",
      "[-2.02, 1.16, -1.97, 0.259, 1.09, 2.96, ... 2.7, 0.787, 0.363, 0.65, 2.47, -2.48]\n",
      "[-1.38, -2.81, -0.749, -0.758, 0.0799, -2.58, ... -2.65, -2.9, -2.53, -0.804, 0.729]\n",
      "[1.34, -0.749, -2.88, -1.98, 2.24, -1.31, ... 1.54, 2.71, -2.63, -0.548, -2.95, 2.95]\n",
      "JetGoodFromHiggsOrderedRun2_mass\n",
      "[4 4 4 ... 4 4 4]\n",
      "[[26.2, 6.96, 9.69, 9.11], [8.66, 6.11, ... 25, 8.85], [8.44, 8.93, 10.5, 4.34]]\n",
      "[26.2, 8.66, 8.4, 17.7, 18.8, 13.3, 14.6, ... 18.1, 28, 23.1, 14.1, 33.5, 25.1, 8.44]\n",
      "[6.96, 6.11, 7.78, 11, 5.88, 23.5, 8.09, ... 6.39, 12.3, 12.5, 13.4, 6.52, 8.93]\n",
      "[9.69, 11.7, 8.39, 10, 5.98, 13.6, 16.2, ... 16.2, 20.7, 19.4, 10.1, 21.4, 25, 10.5]\n",
      "[9.11, 9.15, 6.61, 6.78, 5.4, 8.98, 7.67, ... 5.1, 9.49, 4.01, 4.54, 8.85, 4.34]\n",
      "add_jet1ptRun2_pt\n",
      "add_jet1ptRun2_eta\n",
      "add_jet1ptRun2_phi\n",
      "add_jet1ptRun2_mass\n",
      "events_sigma_over_higgs1_reco_massRun2\n",
      "events_sigma_over_higgs2_reco_massRun2\n",
      "[array([2., 2., 2., ..., 2., 2., 2.], dtype=float32), array([185.28851 ,  95.481224, 161.75635 , ..., 218.84467 , 196.6427  ,\n",
      "        93.51799 ], dtype=float32), array([ 1.641183  ,  0.32639295, -1.1966081 , ..., -1.0062741 ,\n",
      "       -0.06138762,  1.9884021 ], dtype=float32), array([ 0.27495736,  1.0123686 , -2.3400855 , ..., -0.39652753,\n",
      "        1.9298159 , -1.7738373 ], dtype=float32), array([153.33302, 101.76868,  96.55607, ..., 158.67075, 124.45043,\n",
      "        94.80202], dtype=float32), array([ 38.759094,  86.73268 ,  46.570595, ..., 134.48306 , 123.16093 ,\n",
      "        65.2752  ], dtype=float32), array([ 3.2379172,  1.8789049, -1.7461109, ..., -1.3161421, -0.9780903,\n",
      "       -2.747656 ], dtype=float32), array([-0.48529133, -2.0436902 , -1.706205  , ..., -2.3312912 ,\n",
      "       -1.2223059 ,  1.1757725 ], dtype=float32), array([162.64043, 146.84212, 149.14667, ..., 113.18612, 168.41956,\n",
      "       148.70331], dtype=float32), array([619.10785, 258.57553, 480.67267, ..., 714.9527 , 417.96362,\n",
      "       587.8348 ], dtype=float32), array([2.45743  , 1.8655139, 1.1776345, ..., 1.4067651, 1.1710835,\n",
      "       1.6132692], dtype=float32), array([2.7246962, 2.1401412, 3.0181696, ..., 2.0061095, 2.159619 ,\n",
      "       2.8829966], dtype=float32), array([0.654185  , 1.77038324, 0.90905684, ..., 0.42212903, 0.8955434 ,\n",
      "       1.61326921]), array([2.91952848, 3.11021566, 3.01816964, ..., 3.13418818, 3.00524426,\n",
      "       4.93196917]), array([0.34731817, 0.99229383, 0.5609777 , ..., 0.4455494 , 0.69152975,\n",
      "       0.5156464 ], dtype=float32), array([0.00335494, 0.2218911 , 0.8146715 , ..., 0.24954562, 0.00409571,\n",
      "       0.8475639 ], dtype=float32), array([0.16107596, 0.6666935 , 0.6043278 , ..., 0.09197422, 0.35008898,\n",
      "       0.9814286 ], dtype=float32), array([355.5661 , 352.13538, 285.13907, ..., 395.8979 , 454.0405 ,\n",
      "       875.8954 ], dtype=float32), array([215.04099  ,  11.7084055, 201.17975  , ..., 212.19046  ,\n",
      "        73.50004  ,  31.968075 ], dtype=float32), array([ 2.1946862,  3.966497 , -1.3754268, ..., -1.57774  , -1.4777201,\n",
      "       -2.3851874], dtype=float32), array([1.7684847, 3.4277966, 0.8389028, ..., 1.9594204, 3.2624993,\n",
      "       5.5794663], dtype=float32), array([ 0.76024866,  3.056059  , -0.6338805 , ...,  1.9347637 ,\n",
      "       -3.1310635 , -2.9496098 ], dtype=float32), array([1.5967342 , 1.5525119 , 0.54950285, ..., 0.30986798, 0.9167027 ,\n",
      "       4.736058  ], dtype=float32), <Array [206, 57.9, 113, ... 194, 137, 62.2] type='20914 * float32'>, <Array [29.1, 38.3, 54, ... 69.1, 76.4, 58.3] type='20914 * float32'>, <Array [91.7, 94.5, 50.5, ... 144, 145, 80.3] type='20914 * float32'>, <Array [73.9, 67.9, 44.8, ... 29.2, 59.6, 35.4] type='20914 * float32'>, <Array [1.35, 1, -0.724, ... 0.246, 2.08] type='20914 * float32'>, <Array [1.85, -0.847, -1.77, ... -0.573, 1.22] type='20914 * float32'>, <Array [1.74, 1.02, 0.265, ... -0.564, -2.49] type='20914 * float32'>, <Array [1.9, 1.61, -1.88, ... -0.82, -0.654] type='20914 * float32'>, <Array [0.381, 0.915, -2.51, ... 1.64, -1.12] type='20914 * float32'>, <Array [-2.02, 1.16, -1.97, ... 2.47, -2.48] type='20914 * float32'>, <Array [-1.38, -2.81, ... -0.804, 0.729] type='20914 * float32'>, <Array [1.34, -0.749, -2.88, ... -2.95, 2.95] type='20914 * float32'>, <Array [26.2, 8.66, 8.4, ... 33.5, 25.1, 8.44] type='20914 * float32'>, <Array [6.96, 6.11, 7.78, ... 13.4, 6.52, 8.93] type='20914 * float32'>, <Array [9.69, 11.7, 8.39, ... 21.4, 25, 10.5] type='20914 * float32'>, <Array [9.11, 9.15, 6.61, ... 4.54, 8.85, 4.34] type='20914 * float32'>, array([ 218.56987   , -999.        ,  128.51766968, ...,  141.12904358,\n",
      "       -999.        ,  180.33929443]), array([ 2.40039062e+00, -9.99000000e+02,  2.33251953e+00, ...,\n",
      "        2.99072266e-01, -9.99000000e+02, -1.75445557e-01]), array([  -2.99462891, -999.        ,    1.61547852, ...,    1.82739258,\n",
      "       -999.        ,    3.13671875]), array([  20.89730644, -999.        ,   26.68400764, ...,   11.32251263,\n",
      "       -999.        ,   17.03133202]), array([0.22032027, 0.10125411, 0.06414319, ..., 0.07292013, 0.08795439,\n",
      "       0.07296678]), array([0.08970668, 0.08654852, 0.0831527 , ..., 0.23869974, 0.06395393,\n",
      "       0.16702571])]\n",
      "[[ 2.0000000e+00  1.8528851e+02  1.6411830e+00 ...  2.0897306e+01\n",
      "   2.2032027e-01  8.9706674e-02]\n",
      " [ 2.0000000e+00  9.5481224e+01  3.2639295e-01 ... -9.9900000e+02\n",
      "   1.0125411e-01  8.6548522e-02]\n",
      " [ 2.0000000e+00  1.6175635e+02 -1.1966081e+00 ...  2.6684008e+01\n",
      "   6.4143188e-02  8.3152704e-02]\n",
      " ...\n",
      " [ 2.0000000e+00  2.1884467e+02 -1.0062741e+00 ...  1.1322513e+01\n",
      "   7.2920136e-02  2.3869975e-01]\n",
      " [ 2.0000000e+00  1.9664270e+02 -6.1387621e-02 ... -9.9900000e+02\n",
      "   8.7954395e-02  6.3953929e-02]\n",
      " [ 2.0000000e+00  9.3517990e+01  1.9884021e+00 ...  1.7031332e+01\n",
      "   7.2966777e-02  1.6702572e-01]] (20914, 45)\n"
     ]
    }
   ],
   "source": [
    "list_variables=create_DNN_columns_list(True, bkg_morphing_dnn_input_variables)\n",
    "\n",
    "list_column=[]\n",
    "for k in list_variables:\n",
    "    print(k)\n",
    "    if 'JetGoodFromHiggsOrdered' in k:\n",
    "        print( col['JetGoodFromHiggsOrderedRun2_N'])\n",
    "        #unflatten\n",
    "        col_k_unflatten=ak.unflatten(col[k], col['JetGoodFromHiggsOrderedRun2_N'])\n",
    "        print(col_k_unflatten)\n",
    "        for i in range(4):\n",
    "            list_column.append(col_k_unflatten[:,i])\n",
    "            print(col_k_unflatten[:,i])\n",
    "    else:\n",
    "        list_column.append(col[k])\n",
    "print(list_column)\n",
    "input_data = np.array(np.stack(list_column, axis=1), dtype=np.float32)\n",
    "print(input_data, input_data.shape)"
   ]
  },
  {
   "cell_type": "code",
   "execution_count": 4,
   "metadata": {},
   "outputs": [
    {
     "name": "stdout",
     "output_type": "stream",
     "text": [
      "Inputs name: ['InputVariables']\n",
      "Outputs name: ['Sigmoid']\n",
      "Inputs shape: [['batch_size', 45]]\n",
      "Outputs shape: [['batch_size', 2]]\n"
     ]
    }
   ],
   "source": [
    "onnx_name='/work/tharte/datasets/ML_pytorch/out/merged_2022_AN_oversample/state_dict/model_44_state_dict.onnx'\n",
    "\n",
    "session = rt.InferenceSession(\n",
    "    onnx_name,\n",
    "    providers=rt.get_available_providers()\n",
    ")\n",
    "# print the input/putput name and shape\n",
    "input_name=[input.name for input in session.get_inputs()]\n",
    "output_name=[output.name for output in session.get_outputs()]\n",
    "print(\"Inputs name:\", input_name)\n",
    "print(\"Outputs name:\", output_name)\n",
    "\n",
    "input_shape=[input.shape for input in session.get_inputs()]\n",
    "output_shape=[output.shape for output in session.get_outputs()]\n",
    "print(\"Inputs shape:\", input_shape)\n",
    "print(\"Outputs shape:\", output_shape)\n",
    "\n",
    "input_example = {input_name[0]: input_data}\n",
    "\n",
    "output = session.run(output_name, input_example)[0]"
   ]
  },
  {
   "cell_type": "code",
   "execution_count": 5,
   "metadata": {},
   "outputs": [
    {
     "name": "stdout",
     "output_type": "stream",
     "text": [
      "[[3.53987068e-01 6.46012902e-01]\n",
      " [9.99997377e-01 2.65266544e-06]\n",
      " [1.45895261e-04 9.99854088e-01]\n",
      " ...\n",
      " [9.75022505e-15 1.00000000e+00]\n",
      " [9.99717295e-01 2.82717083e-04]\n",
      " [1.17549926e-01 8.82450044e-01]]\n"
     ]
    }
   ],
   "source": [
    "print(output)"
   ]
  },
  {
   "cell_type": "code",
   "execution_count": 11,
   "metadata": {},
   "outputs": [
    {
     "data": {
      "text/plain": [
       "<matplotlib.legend.Legend at 0x7f506c074af0>"
      ]
     },
     "execution_count": 11,
     "metadata": {},
     "output_type": "execute_result"
    },
    {
     "data": {
      "image/png": "[encoded data removed]",
      "text/plain": [
       "<Figure size 640x480 with 1 Axes>"
      ]
     },
     "metadata": {},
     "output_type": "display_data"
    }
   ],
   "source": [
    "#plot histogram\n",
    "plt.hist(output[:,0], bins=50, histtype='step', label='P2b')\n",
    "plt.hist(output[:,1], bins=50, histtype='step', label='P4b')\n",
    "plt.legend()"
   ]
  },
  {
   "cell_type": "code",
   "execution_count": 7,
   "metadata": {},
   "outputs": [],
   "source": [
    "output_2b = output"
   ]
  },
  {
   "cell_type": "code",
   "execution_count": 8,
   "metadata": {},
   "outputs": [],
   "source": [
    "# output_2b = output"
   ]
  },
  {
   "cell_type": "code",
   "execution_count": 9,
   "metadata": {},
   "outputs": [
    {
     "ename": "NameError",
     "evalue": "name 'output_4b' is not defined",
     "output_type": "error",
     "traceback": [
      "\u001b[0;31m---------------------------------------------------------------------------\u001b[0m",
      "\u001b[0;31mNameError\u001b[0m                                 Traceback (most recent call last)",
      "Cell \u001b[0;32mIn[9], line 2\u001b[0m\n\u001b[1;32m      1\u001b[0m \u001b[38;5;66;03m#plot histograms\u001b[39;00m\n\u001b[0;32m----> 2\u001b[0m plt\u001b[38;5;241m.\u001b[39mhist(\u001b[43moutput_4b\u001b[49m, bins\u001b[38;5;241m=\u001b[39m\u001b[38;5;241m50\u001b[39m, histtype\u001b[38;5;241m=\u001b[39m\u001b[38;5;124m'\u001b[39m\u001b[38;5;124mstep\u001b[39m\u001b[38;5;124m'\u001b[39m)\n\u001b[1;32m      3\u001b[0m plt\u001b[38;5;241m.\u001b[39mhist(output_2b, bins\u001b[38;5;241m=\u001b[39m\u001b[38;5;241m50\u001b[39m, histtype\u001b[38;5;241m=\u001b[39m\u001b[38;5;124m'\u001b[39m\u001b[38;5;124mstep\u001b[39m\u001b[38;5;124m'\u001b[39m)\n",
      "\u001b[0;31mNameError\u001b[0m: name 'output_4b' is not defined"
     ]
    }
   ],
   "source": [
    "#plot histograms\n",
    "plt.hist(output_4b, bins=50, histtype='step')\n",
    "plt.hist(output_2b, bins=50, histtype='step')"
   ]
  },
  {
   "cell_type": "code",
   "execution_count": null,
   "metadata": {},
   "outputs": [],
   "source": []
  }
 ],
 "metadata": {
  "kernelspec": {
   "display_name": "Python 3",
   "language": "python",
   "name": "python3"
  },
  "language_info": {
   "codemirror_mode": {
    "name": "ipython",
    "version": 3
   },
   "file_extension": ".py",
   "mimetype": "text/x-python",
   "name": "python",
   "nbconvert_exporter": "python",
   "pygments_lexer": "ipython3",
   "version": "3.8.18"
  }
 },
 "nbformat": 4,
 "nbformat_minor": 2
}
