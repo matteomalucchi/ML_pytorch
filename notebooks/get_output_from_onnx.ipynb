{
 "cells": [
  {
   "cell_type": "code",
   "execution_count": 9,
   "metadata": {},
   "outputs": [],
   "source": [
    "import onnxruntime as rt\n",
    "import numpy as np\n",
    "import awkward as ak\n",
    "from matplotlib import pyplot as plt\n",
    "from coffea.util import load\n",
    "\n",
    "from ml_pytorch.defaults.dnn_input_variables import  bkg_morphing_dnn_input_variables\n",
    "from ml_pytorch.utils.tools import create_DNN_columns_list\n"
   ]
  },
  {
   "cell_type": "code",
   "execution_count": 19,
   "metadata": {},
   "outputs": [
    {
     "name": "stdout",
     "output_type": "stream",
     "text": [
      "DATA_JetMET_JMENano_skimmed DATA_JetMET_JMENano_2022_postEE_EraE 2b_control_region_postWRun2\n",
      "weight\n",
      "HiggsLeadingRun2_helicityCosTheta\n",
      "HiggsLeadingRun2_phi\n",
      "HiggsLeadingRun2_mass\n",
      "HiggsLeadingRun2_pt\n",
      "HiggsLeadingRun2_dR\n",
      "HiggsLeadingRun2_eta\n",
      "HiggsSubLeadingRun2_helicityCosTheta\n",
      "HiggsSubLeadingRun2_phi\n",
      "HiggsSubLeadingRun2_mass\n",
      "HiggsSubLeadingRun2_pt\n",
      "HiggsSubLeadingRun2_dR\n",
      "HiggsSubLeadingRun2_eta\n",
      "HHRun2_dPhi\n",
      "HHRun2_Costhetastar_CS\n",
      "HHRun2_mass\n",
      "HHRun2_pt\n",
      "HHRun2_dR\n",
      "HHRun2_eta\n",
      "HHRun2_dEta\n",
      "JetGoodFromHiggsOrderedRun2_N\n",
      "JetGoodFromHiggsOrderedRun2_pt\n",
      "JetGoodFromHiggsOrderedRun2_phi\n",
      "JetGoodFromHiggsOrderedRun2_eta\n",
      "JetGoodFromHiggsOrderedRun2_mass\n",
      "JetGoodFromHiggsOrderedRun2_btagPNetB\n",
      "add_jet1ptRun2_pt\n",
      "add_jet1ptRun2_phi\n",
      "add_jet1ptRun2_eta\n",
      "add_jet1ptRun2_mass\n",
      "events_dR_max\n",
      "events_dR_min\n",
      "events_sigma_over_higgs2_reco_massRun2\n",
      "events_era\n",
      "events_sigma_over_higgs1_reco_massRun2\n",
      "events_HT\n"
     ]
    }
   ],
   "source": [
    "input = \"/work/tharte/datasets/data_samples/data_full_2022/merged/output_all.coffea\"\n",
    "input = \"/work/mmalucch/out_hh4b/out_JMENanoData_comparisonRun2_DNN_variables_SR_CR_PADm10_fixed_SPANETptVary0p3_1p7_MorphingSoftmaxATheEndOversampling/output_all.coffea\"\n",
    "\n",
    "o = load(f\"{input}\")\n",
    "sample=list(o[\"columns\"].keys())[0]\n",
    "dataset=list(o[\"columns\"][sample].keys())[0]\n",
    "category=list(o[\"columns\"][sample][dataset].keys())[0]\n",
    "category=\"2b_control_region_postWRun2\"\n",
    "# category=\"4b_control_regionRun2\"\n",
    "print(sample,dataset, category)\n",
    "col=o[\"columns\"][sample][dataset][category]\n",
    "\n",
    "\n",
    "for k in col.keys():\n",
    "    print(k)\n",
    "    col[k]=col[k].value#[col[k].value!=-999]\n"
   ]
  },
  {
   "cell_type": "code",
   "execution_count": 20,
   "metadata": {},
   "outputs": [
    {
     "name": "stdout",
     "output_type": "stream",
     "text": [
      "events_era\n",
      "HiggsLeadingRun2_pt\n",
      "HiggsLeadingRun2_eta\n",
      "HiggsLeadingRun2_phi\n",
      "HiggsLeadingRun2_mass\n",
      "HiggsSubLeadingRun2_pt\n",
      "HiggsSubLeadingRun2_eta\n",
      "HiggsSubLeadingRun2_phi\n",
      "HiggsSubLeadingRun2_mass\n",
      "events_HT\n",
      "HiggsLeadingRun2_dR\n",
      "HiggsSubLeadingRun2_dR\n",
      "events_dR_min\n",
      "events_dR_max\n",
      "HiggsLeadingRun2_helicityCosTheta\n",
      "HiggsSubLeadingRun2_helicityCosTheta\n",
      "HHRun2_Costhetastar_CS\n",
      "HHRun2_mass\n",
      "HHRun2_pt\n",
      "HHRun2_eta\n",
      "HHRun2_dR\n",
      "HHRun2_dPhi\n",
      "HHRun2_dEta\n",
      "JetGoodFromHiggsOrderedRun2_pt\n",
      "[4 4 4 ... 4 4 4]\n",
      "[[129, 49.4, 74, 38.7], [87, 61, 107, ... 62.6, 107, 56.9], [124, 43.6, 119, 47.9]]\n",
      "[129, 87, 114, 112, 108, 110, 101, 154, ... 230, 82.2, 215, 118, 137, 129, 119, 124]\n",
      "[49.4, 61, 59.3, 35.3, 101, 81.6, 50, ... 38.5, 33.4, 29.1, 34.5, 78, 62.6, 43.6]\n",
      "[74, 107, 88.6, 80.6, 141, 145, 52.2, 113, ... 105, 98.7, 118, 67.8, 129, 107, 119]\n",
      "[38.7, 73.3, 87.7, 77.2, 59.8, 27.8, 38.5, ... 39.2, 45.5, 42.2, 64.9, 56.9, 47.9]\n",
      "JetGoodFromHiggsOrderedRun2_eta\n",
      "[4 4 4 ... 4 4 4]\n",
      "[[0.733, 0.925, 1.64, 0.104], [0.0772, ... 1.86], [0.569, -1.06, 0.0634, -0.567]]\n",
      "[0.733, 0.0772, 0.903, 0.166, 1.08, 0.478, ... 0.33, -0.44, -1.93, -0.487, 0.569]\n",
      "[0.925, 0.776, 1.14, -0.639, -0.101, -0.266, ... 1.73, 0.897, -0.887, 1.11, -1.06]\n",
      "[1.64, -0.688, 0.281, -1.08, -0.858, -0.433, ... -1.34, 0.67, -0.566, 0.486, 0.0634]\n",
      "[0.104, -0.0689, 0.523, -2.04, -2.11, -0.218, ... -0.94, 1.74, -0.638, 1.86, -0.567]\n",
      "JetGoodFromHiggsOrderedRun2_phi\n",
      "[4 4 4 ... 4 4 4]\n",
      "[[0.485, -0.458, -3.06, 2.02], [0.168, -1.04, ... 1.13], [-0.481, -1.16, -2.7, 2.57]]\n",
      "[0.485, 0.168, 0.0515, -2.68, -0.381, 0.153, ... 2.75, -3.02, 2.21, -1.19, -0.481]\n",
      "[-0.458, -1.04, -0.983, 1.62, -0.492, -0.508, ... -0.971, 0.111, -3.01, -1.68, -1.16]\n",
      "[-3.06, 2.16, 2.4, 0.91, 2.95, 2.47, ... -0.456, 2.06, 0.875, -1.25, 2.04, -2.7]\n",
      "[2.02, -2.13, -2.8, -1.09, 2.04, -2.44, ... 1.97, -0.91, 2.43, 0.367, 1.13, 2.57]\n",
      "JetGoodFromHiggsOrderedRun2_mass\n",
      "[4 4 4 ... 4 4 4]\n",
      "[[10, 6.52, 5.89, 6.46], [9.09, 8.24, ... 15.8, 10.2], [13.9, 5.58, 12.7, 7.74]]\n",
      "[10, 9.09, 13.4, 15, 20, 13.7, 12.4, ... 13.8, 25.5, 10.5, 21.3, 18.5, 18.9, 13.9]\n",
      "[6.52, 8.24, 8.74, 5.07, 11, 9.24, 6.93, ... 6.25, 4.47, 5.83, 6.9, 11.3, 11.5, 5.58]\n",
      "[5.89, 9.87, 15.4, 12.1, 14.3, 19.1, 12.4, ... 10.5, 11, 10.5, 13.2, 15.8, 12.7]\n",
      "[6.46, 6.17, 15.6, 9.93, 11.4, 3.19, 8.12, ... 6.65, 10.7, 8.54, 12.4, 10.2, 7.74]\n",
      "add_jet1ptRun2_pt\n",
      "add_jet1ptRun2_eta\n",
      "add_jet1ptRun2_phi\n",
      "add_jet1ptRun2_mass\n",
      "events_sigma_over_higgs1_reco_massRun2\n",
      "events_sigma_over_higgs2_reco_massRun2\n",
      "[array([2., 2., 2., ..., 2., 2., 2.], dtype=float32), array([162.87123, 122.91116, 153.13564, ..., 180.12364, 176.37933,\n",
      "       160.05516], dtype=float32), array([ 0.8495778 ,  0.46318138,  1.0848355 , ..., -1.7736077 ,\n",
      "        0.13793077,  0.11754691], dtype=float32), array([ 0.23685893, -0.31429997, -0.28764647, ...,  2.595497  ,\n",
      "       -1.3555206 , -0.6529751 ], dtype=float32), array([ 75.926994,  99.047104,  86.51515 , ..., 153.8455  , 161.03728 ,\n",
      "       143.48428 ], dtype=float32), array([ 95.00452 , 102.132805, 151.09256 , ..., 141.653   , 148.67549 ,\n",
      "       149.5639  ], dtype=float32), array([ 1.4288507 , -0.7567951 ,  0.46761972, ..., -0.77523935,\n",
      "        1.2263108 , -0.14093101], dtype=float32), array([ 2.8333108,  2.8712208,  2.9364982, ..., -0.7729533,  1.7291415,\n",
      "       -2.9706151], dtype=float32), array([110.09907, 159.87218,  98.326  , ..., 135.0555 , 137.24246,\n",
      "        90.05337], dtype=float32), array([290.93317, 328.63898, 349.69263, ..., 401.0982 , 344.9552 ,\n",
      "       440.0431 ], dtype=float32), array([0.9616488, 1.3919153, 1.0612384, ..., 1.4975395, 1.6680053,\n",
      "       1.7654847], dtype=float32), array([1.9490252, 2.0876567, 1.1091833, ..., 1.6173989, 1.6454467,\n",
      "       1.193471 ], dtype=float32), array([0.96164882, 1.38369727, 1.06123841, ..., 1.49753952, 1.64544666,\n",
      "       1.19347095]), array([2.88420415, 3.41887426, 3.02547503, ..., 3.1419754 , 3.2930479 ,\n",
      "       3.25981903]), array([0.05629395, 0.48313484, 0.0156107 , ..., 0.7354574 , 0.92686945,\n",
      "       0.88619524], dtype=float32), array([0.85745543, 0.38206017, 0.2227054 , ..., 0.06752432, 0.6670554 ,\n",
      "       0.4715527 ], dtype=float32), array([0.09085535, 0.52742606, 0.32827613, ..., 0.580045  , 0.5111408 ,\n",
      "       0.14077921], dtype=float32), array([314.2675 , 374.8505 , 371.1041 , ..., 477.3614 , 483.204  ,\n",
      "       371.36563], dtype=float32), array([ 95.34949 ,  21.353228,  12.718637, ...,  52.796623,  29.197111,\n",
      "       124.35014 ], dtype=float32), array([ 1.9907547 , -1.0241733 ,  3.7635303 , ..., -3.1844242 ,\n",
      "        2.8674393 , -0.01842024], dtype=float32), array([2.6602857, 3.3292441, 3.1206865, ..., 3.0809772, 3.2710412,\n",
      "       2.332009 ], dtype=float32), array([-2.596452 ,  3.0976644,  3.0590405, ..., -2.914735 , -3.084662 ,\n",
      "        2.31764  ], dtype=float32), array([0.57927287, 1.2199764 , 0.6172158 , ..., 0.9983684 , 1.0883801 ,\n",
      "       0.25847793], dtype=float32), <Array [129, 87, 114, 112, ... 129, 119, 124] type='930129 * float32'>, <Array [49.4, 61, 59.3, ... 78, 62.6, 43.6] type='930129 * float32'>, <Array [74, 107, 88.6, 80.6, ... 129, 107, 119] type='930129 * float32'>, <Array [38.7, 73.3, 87.7, ... 64.9, 56.9, 47.9] type='930129 * float32'>, <Array [0.733, 0.0772, ... -0.487, 0.569] type='930129 * float32'>, <Array [0.925, 0.776, 1.14, ... 1.11, -1.06] type='930129 * float32'>, <Array [1.64, -0.688, 0.281, ... 0.486, 0.0634] type='930129 * float32'>, <Array [0.104, -0.0689, ... 1.86, -0.567] type='930129 * float32'>, <Array [0.485, 0.168, ... -1.19, -0.481] type='930129 * float32'>, <Array [-0.458, -1.04, ... -1.68, -1.16] type='930129 * float32'>, <Array [-3.06, 2.16, 2.4, ... 2.04, -2.7] type='930129 * float32'>, <Array [2.02, -2.13, -2.8, ... 1.13, 2.57] type='930129 * float32'>, <Array [10, 9.09, 13.4, ... 18.5, 18.9, 13.9] type='930129 * float32'>, <Array [6.52, 8.24, 8.74, ... 11.3, 11.5, 5.58] type='930129 * float32'>, <Array [5.89, 9.87, 15.4, ... 13.2, 15.8, 12.7] type='930129 * float32'>, <Array [6.46, 6.17, 15.6, ... 12.4, 10.2, 7.74] type='930129 * float32'>, array([-999.        , -999.        , -999.        , ..., -999.        ,\n",
      "       -999.        ,  106.15220642]), array([-999.        , -999.        , -999.        , ..., -999.        ,\n",
      "       -999.        ,   -1.06811523]), array([-999.        , -999.        , -999.        , ..., -999.        ,\n",
      "       -999.        ,    1.45629883]), array([-999.       , -999.       , -999.       , ..., -999.       ,\n",
      "       -999.       ,   21.8931694]), array([0.05837281, 0.05127236, 0.10576234, ..., 0.08256922, 0.07281523,\n",
      "       0.12945158]), array([0.08325298, 0.05146588, 0.06025617, ..., 0.07938204, 0.08378185,\n",
      "       0.08187552])]\n",
      "[[ 2.0000000e+00  1.6287123e+02  8.4957778e-01 ... -9.9900000e+02\n",
      "   5.8372810e-02  8.3252981e-02]\n",
      " [ 2.0000000e+00  1.2291116e+02  4.6318138e-01 ... -9.9900000e+02\n",
      "   5.1272362e-02  5.1465876e-02]\n",
      " [ 2.0000000e+00  1.5313564e+02  1.0848355e+00 ... -9.9900000e+02\n",
      "   1.0576234e-01  6.0256172e-02]\n",
      " ...\n",
      " [ 2.0000000e+00  1.8012364e+02 -1.7736077e+00 ... -9.9900000e+02\n",
      "   8.2569219e-02  7.9382040e-02]\n",
      " [ 2.0000000e+00  1.7637933e+02  1.3793077e-01 ... -9.9900000e+02\n",
      "   7.2815225e-02  8.3781846e-02]\n",
      " [ 2.0000000e+00  1.6005516e+02  1.1754691e-01 ...  2.1893169e+01\n",
      "   1.2945159e-01  8.1875518e-02]] (930129, 45)\n"
     ]
    }
   ],
   "source": [
    "list_variables=create_DNN_columns_list(True, bkg_morphing_dnn_input_variables)\n",
    "print(list_variables)\n",
    "list_column=[]\n",
    "for k in list_variables:\n",
    "    print(k)\n",
    "    if 'JetGoodFromHiggsOrdered' in k:\n",
    "        print( col['JetGoodFromHiggsOrderedRun2_N'])\n",
    "        #unflatten\n",
    "        col_k_unflatten=ak.unflatten(col[k], col['JetGoodFromHiggsOrderedRun2_N'])\n",
    "        print(col_k_unflatten)\n",
    "        for i in range(4):\n",
    "            list_column.append(col_k_unflatten[:,i])\n",
    "            print(col_k_unflatten[:,i])\n",
    "    else:\n",
    "        list_column.append(col[k])\n",
    "print(list_column)\n",
    "input_data = np.array(np.stack(list_column, axis=1), dtype=np.float32)\n",
    "print(input_data, input_data.shape)"
   ]
  },
  {
   "cell_type": "code",
   "execution_count": 21,
   "metadata": {},
   "outputs": [
    {
     "name": "stdout",
     "output_type": "stream",
     "text": [
      "Inputs name: ['args_0']\n",
      "Outputs name: ['avg_w']\n",
      "Inputs shape: [['N', 45]]\n",
      "Outputs shape: [[None]]\n"
     ]
    }
   ],
   "source": [
    "# onnx_name='/work/tharte/datasets/ML_pytorch/out/merged_2022_AN_oversample/state_dict/model_44_state_dict.onnx'\n",
    "# onnx_name='/t3home/mmalucch/ML_pytorch/out/AN_oversample/average_model_from_onnx.onnx'\n",
    "# onnx_name='/work/tharte/datasets/ML_pytorch/out/test_newfix_softmax/state_dict/model_0_state_dict.onnx'\n",
    "# onnx_name='/work/tharte/datasets/ML_pytorch/out/AN_fixed_5e-3_30drop/state_dict/model_49_state_dict.onnx'\n",
    "onnx_name='/t3home/mmalucch/ML_pytorch/out/AN_oversample_SoftmaxInOnnxAtTheEnd/average_model_from_onnx.onnx'\n",
    "\n",
    "session = rt.InferenceSession(\n",
    "    onnx_name,\n",
    "    providers=rt.get_available_providers()\n",
    ")\n",
    "# print the input/putput name and shape\n",
    "input_name=[input.name for input in session.get_inputs()]\n",
    "output_name=[output.name for output in session.get_outputs()]\n",
    "print(\"Inputs name:\", input_name)\n",
    "print(\"Outputs name:\", output_name)\n",
    "\n",
    "input_shape=[input.shape for input in session.get_inputs()]\n",
    "output_shape=[output.shape for output in session.get_outputs()]\n",
    "print(\"Inputs shape:\", input_shape)\n",
    "print(\"Outputs shape:\", output_shape)\n",
    "\n",
    "input_example = {input_name[0]: input_data}\n",
    "\n",
    "output = session.run(output_name, input_example)[0]"
   ]
  },
  {
   "cell_type": "code",
   "execution_count": 22,
   "metadata": {},
   "outputs": [
    {
     "name": "stdout",
     "output_type": "stream",
     "text": [
      "[0.12342588 0.88797235 0.3527841  ... 0.05985392 0.08659501 1.6067369 ]\n",
      "[]\n",
      "[0.10986562 0.47033122 0.26078373 ... 0.05647374 0.07969391 0.6163786 ]\n",
      "55.414146 1.8446766e-05\n",
      "0.85081875 1.0270212\n"
     ]
    },
    {
     "data": {
      "image/png": "[encoded data removed]",
      "text/plain": [
       "<Figure size 640x480 with 1 Axes>"
      ]
     },
     "metadata": {},
     "output_type": "display_data"
    }
   ],
   "source": [
    "print(output)\n",
    "\n",
    "\n",
    "plot_distr=output\n",
    "# plot_distr=output[:,1]/(output[:,0])\n",
    "output_noinf=output[output>1e3]\n",
    "print(output_noinf)\n",
    "print(output/(1+output))\n",
    "plt.hist(plot_distr, bins=(np.logspace(-3, 2, 1000)))\n",
    "plt.xscale('log')\n",
    "plt.yscale('log')\n",
    "print(max(plot_distr), min(plot_distr))\n",
    "print(np.mean(plot_distr), np.std(plot_distr))"
   ]
  },
  {
   "cell_type": "code",
   "execution_count": 24,
   "metadata": {},
   "outputs": [
    {
     "data": {
      "image/png": "[encoded data removed]",
      "text/plain": [
       "<Figure size 640x480 with 1 Axes>"
      ]
     },
     "metadata": {},
     "output_type": "display_data"
    }
   ],
   "source": [
    "# plot col weights\n",
    "plt.figure()\n",
    "plt.hist(col['weight'], bins=(np.logspace(-3, 2, 100)))\n",
    "plt.xscale('log')\n",
    "plt.yscale('log')"
   ]
  },
  {
   "cell_type": "code",
   "execution_count": null,
   "metadata": {},
   "outputs": [],
   "source": []
  }
 ],
 "metadata": {
  "kernelspec": {
   "display_name": "Python 3",
   "language": "python",
   "name": "python3"
  },
  "language_info": {
   "codemirror_mode": {
    "name": "ipython",
    "version": 3
   },
   "file_extension": ".py",
   "mimetype": "text/x-python",
   "name": "python",
   "nbconvert_exporter": "python",
   "pygments_lexer": "ipython3",
   "version": "3.8.18"
  }
 },
 "nbformat": 4,
 "nbformat_minor": 2
}
